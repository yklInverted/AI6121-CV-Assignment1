{
 "cells": [
  {
   "cell_type": "code",
   "execution_count": 1,
   "id": "e916c2e5",
   "metadata": {},
   "outputs": [],
   "source": [
    "import cv2 #opencv\n",
    "import matplotlib.pyplot as plt #绘图展示\n",
    "import numpy as np #数值计算\n",
    "\n",
    "%matplotlib inline \n",
    "\n",
    "clahe = cv2.createCLAHE(clipLimit = 2.0, tileGridSize = (8, 8))"
   ]
  },
  {
   "cell_type": "code",
   "execution_count": 2,
   "id": "b1d35394",
   "metadata": {},
   "outputs": [],
   "source": [
    "def bgr2rbg(img):\n",
    "    result = img.copy()\n",
    "    result[:,:,0] = img[:,:,2]\n",
    "    result[:,:,2] = img[:,:,0]\n",
    "    return result"
   ]
  },
  {
   "cell_type": "code",
   "execution_count": 3,
   "id": "f857b84f",
   "metadata": {},
   "outputs": [],
   "source": [
    "def YUV(img):\n",
    "    Y, U, V = cv2.split(cv2.cvtColor(img, cv2.COLOR_BGR2YUV))\n",
    "    HEY = cv2.equalizeHist(Y)\n",
    "    CLAHEY = clahe.apply(Y)\n",
    "    imgHE_YUV = cv2.cvtColor(cv2.merge([HEY, U, V]), cv2.COLOR_YUV2BGR)\n",
    "    imgCLAHE_YUV = cv2.cvtColor(cv2.merge([CLAHEY, U, V]), cv2.COLOR_YUV2BGR)\n",
    "    return imgHE_YUV, imgCLAHE_YUV"
   ]
  },
  {
   "cell_type": "code",
   "execution_count": 4,
   "id": "17396b7c",
   "metadata": {},
   "outputs": [],
   "source": [
    "def HSV(img):\n",
    "    H, S, V = cv2.split(cv2.cvtColor(img, cv2.COLOR_BGR2HSV))\n",
    "    HEV = cv2.equalizeHist(V)\n",
    "    CLAHEV = clahe.apply(V)\n",
    "    imgHE_HSV = cv2.cvtColor(cv2.merge([H, S, HEV]), cv2.COLOR_HSV2BGR)\n",
    "    imgCLAHE_HSV = cv2.cvtColor(cv2.merge([H, S, CLAHEV]), cv2.COLOR_HSV2BGR)\n",
    "    return imgHE_HSV, imgCLAHE_HSV"
   ]
  },
  {
   "cell_type": "code",
   "execution_count": 5,
   "id": "7616df52",
   "metadata": {},
   "outputs": [],
   "source": [
    "def BGR(img):\n",
    "    B, G, R = cv2.split(img)\n",
    "    HEB = cv2.equalizeHist(B)\n",
    "    CLAHEB = clahe.apply(B)\n",
    "    HEG = cv2.equalizeHist(G)\n",
    "    CLAHEG = clahe.apply(G)\n",
    "    HER = cv2.equalizeHist(R)\n",
    "    CLAHER = clahe.apply(R)\n",
    "    imgHE_BGR = cv2.merge([HEB, HEG, HER])\n",
    "    imgCLAHE_BGR = cv2.merge([CLAHEB, CLAHEG, CLAHER])\n",
    "    return imgHE_BGR, imgCLAHE_BGR\n",
    "    "
   ]
  },
  {
   "cell_type": "code",
   "execution_count": 6,
   "id": "e1f269b2",
   "metadata": {},
   "outputs": [],
   "source": [
    "imgStrList1 = (\"sample01.jpg\",\"sample02.jpeg\",\"sample03.jpeg\",\"sample04.jpeg\",\"sample05.jpeg\",\"sample06.jpg\",\"sample07.jpg\",\"sample08.jpg\")\n",
    "imgStrList2 = (\"sample01_SwinIR.png\",\"sample02_SwinIR.png\",\"sample03_SwinIR.png\",\"sample04_SwinIR.png\",\"sample05_SwinIR.png\",\"sample06_SwinIR.png\",\"sample07_SwinIR.png\",\"sample08_SwinIR.png\") \n",
    "imgStrList = imgStrList1 + imgStrList2\n",
    "colorCv2 = (\"b\", \"g\", \"r\")\n",
    "\n",
    "for imgStr in imgStrList2:\n",
    "    img = cv2.imread(imgStr) #彩色\n",
    "\n",
    "    imgHE_HSV, imgCLAHE_HSV = HSV(img)\n",
    "    imgHE_YUV, imgCLAHE_YUV = YUV(img)\n",
    "    imgHE_BGR, imgCLAHE_BGR = BGR(img)\n",
    "\n",
    "#     plt.figure(figsize=(100,50))\n",
    "#     plt.subplot(3,3,1)\n",
    "#     plt.imshow(img)\n",
    "#     plt.axis(\"off\")\n",
    "#     plt.subplot(3,3,2)\n",
    "#     plt.imshow(bgr2rbg(imgHE_HSV))\n",
    "#     plt.axis(\"off\")\n",
    "#     plt.subplot(3,3,3)\n",
    "#     plt.imshow(bgr2rbg(imgCLAHE_HSV))\n",
    "#     plt.axis(\"off\")\n",
    "#     plt.subplot(3,3,4)\n",
    "#     plt.imshow(img)\n",
    "#     plt.axis(\"off\")\n",
    "#     plt.subplot(3,3,5)\n",
    "#     plt.imshow(bgr2rbg(imgHE_YUV))\n",
    "#     plt.axis(\"off\")\n",
    "#     plt.subplot(3,3,6)\n",
    "#     plt.imshow(bgr2rbg(imgCLAHE_YUV))\n",
    "#     plt.axis(\"off\")\n",
    "#     plt.subplot(3,3,7)\n",
    "#     plt.imshow(img)\n",
    "#     plt.axis(\"off\")\n",
    "#     plt.subplot(3,3,8)\n",
    "#     plt.imshow(bgr2rbg(imgHE_BGR))\n",
    "#     plt.axis(\"off\")\n",
    "#     plt.subplot(3,3,9)\n",
    "#     plt.imshow(bgr2rbg(imgCLAHE_BGR))\n",
    "#     plt.axis(\"off\")\n",
    "#     plt.show()\n",
    "    \n",
    "    \n"
   ]
  }
 ],
 "metadata": {
  "kernelspec": {
   "display_name": "Python 3 (ipykernel)",
   "language": "python",
   "name": "python3"
  },
  "language_info": {
   "codemirror_mode": {
    "name": "ipython",
    "version": 3
   },
   "file_extension": ".py",
   "mimetype": "text/x-python",
   "name": "python",
   "nbconvert_exporter": "python",
   "pygments_lexer": "ipython3",
   "version": "3.9.12"
  }
 },
 "nbformat": 4,
 "nbformat_minor": 5
}
